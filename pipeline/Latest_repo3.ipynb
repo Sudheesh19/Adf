{
 "cells": [
  {
   "cell_type": "code",
   "execution_count": 0,
   "metadata": {
    "application/vnd.databricks.v1+cell": {
     "cellMetadata": {
      "byteLimit": 2048000,
      "implicitDf": true,
      "rowLimit": 10000
     },
     "inputWidgets": {},
     "nuid": "8720f41b-ce5a-4a18-b64c-c64f30ba5d0e",
     "showTitle": false,
     "tableResultSettingsMap": {},
     "title": ""
    }
   },
   "outputs": [],
   "source": [
    "%sql\n",
    "CREATE TABLE IF NOT EXISTS Employees (\n",
    "    EmployeeID INT PRIMARY KEY,          -- Unique employee ID\n",
    "    FirstName VARCHAR(50) NOT NULL,      -- First name (required)\n",
    "    LastName VARCHAR(50) NOT NULL,       -- Last name (required)\n",
    "    Email VARCHAR(100),                  -- Email\n",
    "    PhoneNumber VARCHAR(15),             -- Optional phone number\n",
    "    HireDate DATE NOT NULL,              -- Joining date\n",
    "    JobTitle VARCHAR(50),                -- Job role/title\n",
    "    Salary DECIMAL(10, 2),               -- Positive salary\n",
    "    DepartmentID INT,                    -- Foreign key reference\n",
    "    CONSTRAINT FK_Department FOREIGN KEY (DepartmentID)\n",
    "        REFERENCES Departments(DepartmentID) -- Link to Departments table\n",
    ");"
   ]
  },
  {
   "cell_type": "code",
   "execution_count": 0,
   "metadata": {
    "application/vnd.databricks.v1+cell": {
     "cellMetadata": {
      "byteLimit": 2048000,
      "implicitDf": true,
      "rowLimit": 10000
     },
     "inputWidgets": {},
     "nuid": "4b2aba20-0fa2-489e-97fa-7c830c343e16",
     "showTitle": false,
     "tableResultSettingsMap": {},
     "title": ""
    }
   },
   "outputs": [],
   "source": [
    "%sql\n",
    "INSERT INTO Employees (EmployeeID, FirstName, LastName, Email, PhoneNumber, HireDate, JobTitle, Salary, DepartmentID)\n",
    "VALUES\n",
    "(1, 'John', 'Doe', 'john.doe@example.com', '9876543210', '2022-03-15', 'Software Engineer', 65000.00, 101),\n",
    "(2, 'Jane', 'Smith', 'jane.smith@example.com', '9876543211', '2021-07-10', 'Data Analyst', 55000.00, 102),\n",
    "(3, 'Michael', 'Brown', 'michael.brown@example.com', '9876543212', '2020-11-01', 'Project Manager', 85000.00, 103),\n",
    "(4, 'Emily', 'Johnson', 'emily.johnson@example.com', '9876543213', '2023-01-05', 'HR Executive', 40000.00, 104),\n",
    "(5, 'David', 'Williams', 'david.williams@example.com', '9876543214', '2022-09-20', 'DevOps Engineer', 72000.00, 101);\n"
   ]
  }
 ],
 "metadata": {
  "application/vnd.databricks.v1+notebook": {
   "computePreferences": null,
   "dashboards": [],
   "environmentMetadata": {
    "base_environment": "",
    "environment_version": "2"
   },
   "inputWidgetPreferences": null,
   "language": "python",
   "notebookMetadata": {
    "mostRecentlyExecutedCommandWithImplicitDF": {
     "commandId": 7398823036931575,
     "dataframes": [
      "_sqldf"
     ]
    },
    "pythonIndentUnit": 4
   },
   "notebookName": "Latest_repo3",
   "widgets": {}
  },
  "language_info": {
   "name": "python"
  }
 },
 "nbformat": 4,
 "nbformat_minor": 0
}

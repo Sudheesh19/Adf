{
 "cells": [
  {
   "cell_type": "code",
   "execution_count": 0,
   "metadata": {
    "application/vnd.databricks.v1+cell": {
     "cellMetadata": {
      "byteLimit": 2048000,
      "implicitDf": true,
      "rowLimit": 10000
     },
     "inputWidgets": {},
     "nuid": "8720f41b-ce5a-4a18-b64c-c64f30ba5d0e",
     "showTitle": false,
     "tableResultSettingsMap": {},
     "title": ""
    }
   },
   "outputs": [],
   "source": [
    "%sql\n",
    "CREATE TABLE Employees (\n",
    "    EmployeeID INT PRIMARY KEY,          -- Unique employee ID\n",
    "    FirstName VARCHAR(50) NOT NULL,      -- First name (required)\n",
    "    LastName VARCHAR(50) NOT NULL,       -- Last name (required)\n",
    "    Email VARCHAR(100) UNIQUE,           -- Email must be unique\n",
    "    PhoneNumber VARCHAR(15),             -- Optional phone number\n",
    "    HireDate DATE NOT NULL,              -- Joining date\n",
    "    JobTitle VARCHAR(50),                 -- Job role/title\n",
    "    Salary DECIMAL(10, 2) CHECK (Salary >= 0), -- Positive salary\n",
    "    DepartmentID INT,                     -- Foreign key reference\n",
    "    CONSTRAINT FK_Department FOREIGN KEY (DepartmentID)\n",
    "        REFERENCES Departments(DepartmentID) -- Link to Departments table\n",
    ");\n"
   ]
  }
 ],
 "metadata": {
  "application/vnd.databricks.v1+notebook": {
   "computePreferences": null,
   "dashboards": [],
   "environmentMetadata": {
    "base_environment": "",
    "environment_version": "2"
   },
   "inputWidgetPreferences": null,
   "language": "python",
   "notebookMetadata": {
    "mostRecentlyExecutedCommandWithImplicitDF": {
     "commandId": 7398823036931542,
     "dataframes": [
      "_sqldf"
     ]
    },
    "pythonIndentUnit": 4
   },
   "notebookName": "Latest_repo3",
   "widgets": {}
  },
  "language_info": {
   "name": "python"
  }
 },
 "nbformat": 4,
 "nbformat_minor": 0
}

{
 "cells": [
  {
   "cell_type": "code",
   "execution_count": 0,
   "metadata": {
    "application/vnd.databricks.v1+cell": {
     "cellMetadata": {
      "byteLimit": 2048000,
      "implicitDf": true,
      "rowLimit": 10000
     },
     "inputWidgets": {},
     "nuid": "5fe580c6-c191-4764-a6aa-a42eb9c4b5dc",
     "showTitle": false,
     "tableResultSettingsMap": {},
     "title": ""
    }
   },
   "outputs": [],
   "source": [
    "%sql\n",
    "-- First, create the Departments table\n",
    "CREATE TABLE IF NOT EXISTS Departments (\n",
    "    DepartmentID INT PRIMARY KEY,\n",
    "    DepartmentName STRING NOT NULL\n",
    ");\n",
    "\n",
    "-- Then, create the Employees table\n",
    "CREATE TABLE Employees (\n",
    "    EmployeeID INT PRIMARY KEY,          -- Unique employee ID\n",
    "    FirstName STRING NOT NULL,           -- First name (required)\n",
    "    LastName STRING NOT NULL,            -- Last name (required)\n",
    "    Email STRING,                        -- Email must be unique\n",
    "    PhoneNumber STRING,                  -- Optional phone number\n",
    "    HireDate DATE NOT NULL,              -- Joining date\n",
    "    JobTitle STRING,                     -- Job role/title\n",
    "    Salary DECIMAL(10, 2),               -- Positive salary\n",
    "    DepartmentID INT,                    -- Foreign key reference\n",
    "    CONSTRAINT FK_Department FOREIGN KEY (DepartmentID)\n",
    "        REFERENCES Departments(DepartmentID) -- Link to Departments table\n",
    ");"
   ]
  },
  {
   "cell_type": "code",
   "execution_count": 0,
   "metadata": {
    "application/vnd.databricks.v1+cell": {
     "cellMetadata": {
      "byteLimit": 2048000,
      "implicitDf": true,
      "rowLimit": 10000
     },
     "inputWidgets": {},
     "nuid": "f60632a7-641a-43fb-a763-38dadebd9e6a",
     "showTitle": false,
     "tableResultSettingsMap": {},
     "title": ""
    }
   },
   "outputs": [],
   "source": [
    "%sql\n",
    "INSERT INTO Employees (EmployeeID, FirstName, LastName, Email, PhoneNumber, HireDate, JobTitle, Salary, DepartmentID)\n",
    "VALUES\n",
    "(1, 'John', 'Doe', 'john.doe@example.com', '9876543210', '2022-03-15', 'Software Engineer', 65000.00, 101),\n",
    "(2, 'Jane', 'Smith', 'jane.smith@example.com', '9876543211', '2021-07-10', 'Data Analyst', 55000.00, 102),\n",
    "(3, 'Michael', 'Brown', 'michael.brown@example.com', '9876543212', '2020-11-01', 'Project Manager', 85000.00, 103),\n",
    "(4, 'Emily', 'Johnson', 'emily.johnson@example.com', '9876543213', '2023-01-05', 'HR Executive', 40000.00, 104),\n",
    "(5, 'Davd', 'Williams', 'david.williams@example.com', '9876543214', '2022-09-20', 'DevOps Engineer', 72000.00, 101);"
   ]
  },
  {
   "cell_type": "code",
   "execution_count": 0,
   "metadata": {
    "application/vnd.databricks.v1+cell": {
     "cellMetadata": {
      "byteLimit": 2048000,
      "implicitDf": true,
      "rowLimit": 10000
     },
     "inputWidgets": {},
     "nuid": "526fb0f4-060c-4e29-bdfb-2b8ced6b99af",
     "showTitle": false,
     "tableResultSettingsMap": {},
     "title": ""
    }
   },
   "outputs": [],
   "source": [
    "%sql\n",
    "select * from Employees;"
   ]
  }
 ],
 "metadata": {
  "application/vnd.databricks.v1+notebook": {
   "computePreferences": null,
   "dashboards": [],
   "environmentMetadata": {
    "base_environment": "",
    "environment_version": "2"
   },
   "inputWidgetPreferences": null,
   "language": "python",
   "notebookMetadata": {
    "mostRecentlyExecutedCommandWithImplicitDF": {
     "commandId": 7044343868906324,
     "dataframes": [
      "_sqldf"
     ]
    },
    "pythonIndentUnit": 4
   },
   "notebookName": "Notebook with SCDtype 2",
   "widgets": {}
  },
  "language_info": {
   "name": "python"
  }
 },
 "nbformat": 4,
 "nbformat_minor": 0
}
